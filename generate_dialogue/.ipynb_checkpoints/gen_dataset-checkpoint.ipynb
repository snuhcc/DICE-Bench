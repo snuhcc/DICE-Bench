{
 "cells": [
  {
   "cell_type": "code",
   "execution_count": 1,
   "id": "8bbb0cd2-4834-4094-981f-b21688635074",
   "metadata": {},
   "outputs": [
    {
     "data": {
      "text/plain": [
       "True"
      ]
     },
     "execution_count": 1,
     "metadata": {},
     "output_type": "execute_result"
    }
   ],
   "source": [
    "from langchain_core.messages import (\n",
    "    BaseMessage,\n",
    "    HumanMessage,\n",
    "    ToolMessage,\n",
    ")\n",
    "from langchain_core.prompts import ChatPromptTemplate, MessagesPlaceholder\n",
    "from langgraph.graph import END, StateGraph, START\n",
    "from langchain.schema import SystemMessage\n",
    "from langchain.prompts import ChatPromptTemplate, MessagesPlaceholder\n",
    "from dotenv import load_dotenv\n",
    "load_dotenv()"
   ]
  },
  {
   "cell_type": "code",
   "execution_count": 2,
   "id": "a00059aa-8da3-4476-ac03-b01b53c4102d",
   "metadata": {},
   "outputs": [],
   "source": [
    "def create_agent(llm, persona_message: str):\n",
    "    prompt = ChatPromptTemplate.from_messages(\n",
    "        [\n",
    "            SystemMessage(content=(\"\"\"\n",
    "                You are a helpful AI assistant.\\n\n",
    "                - Collaborate in a discussion based on your role and the messages provided.\\n\n",
    "                - Respond according to your designated persona.\\n\n",
    "                - Provide only one short sentence per turn if you are an agent.\\n\n",
    "                - If you are the mediator, you must respond only with exactly one of the following: '[NEXT: agent_a]', '[NEXT: agent_b]', '[NEXT: agent_c]', or '[NEXT: END]'. No additional text or explanations are allowed.\\n\n",
    "                - End the entire conversation after 12 total turns by prompting one agent to call AI using the functions in the functions document, ensuring all necessary information for the function call is included within the dialogue.\\n\n",
    "                \"\"\"\n",
    "\n",
    "                f\"{persona_message}\"\n",
    "            )),\n",
    "            MessagesPlaceholder(variable_name=\"messages\"),\n",
    "        ]\n",
    "    )\n",
    "    return prompt | llm"
   ]
  },
  {
   "cell_type": "markdown",
   "id": "dcde3d7d-fb7f-4156-9363-c818ef130d7f",
   "metadata": {},
   "source": [
    "# Agent State"
   ]
  },
  {
   "cell_type": "code",
   "execution_count": 3,
   "id": "5bce0333-361a-4ef1-8622-df11dc949932",
   "metadata": {},
   "outputs": [],
   "source": [
    "import operator\n",
    "from typing import Annotated, Sequence, TypedDict\n",
    "from langchain_openai import ChatOpenAI\n",
    "\n",
    "class AgentState(TypedDict):\n",
    "    messages: Annotated[Sequence[BaseMessage], operator.add]"
   ]
  },
  {
   "cell_type": "markdown",
   "id": "f68d8bf6-6423-416d-ae16-77670c552c58",
   "metadata": {},
   "source": [
    "# Define Agent Nodes"
   ]
  },
  {
   "cell_type": "code",
   "execution_count": 4,
   "id": "8512530f-e9dc-45ee-a72f-c20c10c13edf",
   "metadata": {},
   "outputs": [],
   "source": [
    "import functools\n",
    "from langchain_core.messages import AIMessage\n",
    "llm = ChatOpenAI(model='gpt-4o')"
   ]
  },
  {
   "cell_type": "code",
   "execution_count": 5,
   "id": "17da9717-3f36-4eff-aaa9-7e207c1d10ee",
   "metadata": {},
   "outputs": [],
   "source": [
    "def agent_node(state, agent, name):\n",
    "    result = agent.invoke(state)  # LLM 호출\n",
    "    \n",
    "    if isinstance(result, ToolMessage):\n",
    "        # ToolMessage에 대한 추가 처리\n",
    "        result = AIMessage(content=\"ToolMessage processed\", name=name)\n",
    "    else:\n",
    "        result = AIMessage(**result.model_dump(exclude={'type', 'name'}), name=name)\n",
    "\n",
    "    \n",
    "    return {\n",
    "        'messages': [result],\n",
    "    }"
   ]
  },
  {
   "cell_type": "markdown",
   "id": "d2ac6b76-dd6e-47f4-9e72-5262f4ad87b2",
   "metadata": {},
   "source": [
    "# Define Agents"
   ]
  },
  {
   "cell_type": "code",
   "execution_count": 6,
   "id": "604caca2-5688-4bd5-92cc-11744dcebb56",
   "metadata": {},
   "outputs": [],
   "source": [
    "# 페르소나 정의\n",
    "agent_a_system_message = (\n",
    "    \"You are User A, a spontaneous and energetic planner who loves initiating plans and suggesting ideas.\"\n",
    "    \"Your focus is on creating exciting plans and keeping the conversation dynamic and engaging.\"\n",
    ")\n",
    "\n",
    "agent_b_system_message = (\n",
    "    \"You are User B, a detail-oriented and practical thinker who ensures that the plans are realistic and well-organized. \"\n",
    "    \"You focus on logistics like scheduling and timing, balancing fun with practicality.\"\n",
    ")\n",
    "\n",
    "agent_c_system_message = (\n",
    "    \"You are User C, a thoughtful and resourceful problem-solver who likes optimizing plans for the group's benefit. \"\n",
    "    \"You focus on finding the best options for costs, convenience, and logistics.\"\n",
    ")\n",
    "\n",
    "mediator_system_message = (\n",
    "    \"You are the Mediator, controlling who speaks next. \"\n",
    "    \"Your only valid responses are '[NEXT: agent_a]', '[NEXT: agent_b]', '[NEXT: agent_c]', or '[NEXT: END]'. \"\n",
    "    \"Never speak more than that. \"\n",
    "    \"After 12 turns, have one agent call the AI with the relevant function(s), then conclude with '[NEXT: END]'.\"\n",
    "    \"Ensure conversation order is random without letting the same agent speak consecutively except for the very last turn when the agent call AI.\"\n",
    ")"
   ]
  },
  {
   "cell_type": "code",
   "execution_count": 7,
   "id": "be97c94d-47aa-4351-9e61-d407802d60e6",
   "metadata": {},
   "outputs": [],
   "source": [
    "# 에이전트 생성\n",
    "agent_a = create_agent(llm, agent_a_system_message)\n",
    "agent_a_node = functools.partial(agent_node, agent=agent_a, name=\"agent_a\")\n",
    "\n",
    "agent_b = create_agent(llm, agent_b_system_message)\n",
    "agent_b_node = functools.partial(agent_node, agent=agent_b, name=\"agent_b\")\n",
    "\n",
    "agent_c = create_agent(llm, agent_c_system_message)\n",
    "agent_c_node = functools.partial(agent_node, agent=agent_c, name=\"agent_c\")\n",
    "\n",
    "mediator = create_agent(llm, mediator_system_message)\n",
    "mediator_node = functools.partial(agent_node, agent=mediator, name=\"mediator\")"
   ]
  },
  {
   "cell_type": "markdown",
   "id": "888d20cf-bdbe-4edd-8d1e-008ca54636d8",
   "metadata": {},
   "source": [
    "# Define Graph"
   ]
  },
  {
   "cell_type": "code",
   "execution_count": 8,
   "id": "fd37eedd-41f9-4bc6-91c4-b9951447cf18",
   "metadata": {},
   "outputs": [],
   "source": [
    "import re\n",
    "\n",
    "def find_next_agent(message):\n",
    "    # 메시지가 AIMessage 객체라면 content 속성을 사용\n",
    "    if hasattr(message, \"content\"):\n",
    "        text = message.content\n",
    "    else:\n",
    "        text = str(message)  # 그렇지 않으면 문자열로 변환 (예외 상황 대비)\n",
    "\n",
    "    # 정규식을 사용하여 [NEXT: ...] 부분 추출\n",
    "    match = re.search(r\"\\[NEXT: ([^\\]]+)\\]\", text)\n",
    "    \n",
    "    if match:\n",
    "        next_agent = match.group(1)  # 그룹 1에 원하는 값이 들어있음\n",
    "        return next_agent\n",
    "    \n",
    "    return None  # 매칭되지 않을 경우 None 반환"
   ]
  },
  {
   "cell_type": "code",
   "execution_count": 9,
   "id": "091a91cc-66f0-44aa-99b7-a7edec24f739",
   "metadata": {},
   "outputs": [],
   "source": [
    "from typing import Literal\n",
    "\n",
    "def router(state) -> Literal['__end__', 'agent_a', 'agent_b', 'agent_c', 'mediator']:\n",
    "    messages = state['messages']\n",
    "    last_message = messages[-1]\n",
    "    # print(state)\n",
    "    next_agent = find_next_agent(last_message)  # `find_next_agent`는 다음 에이전트를 추출하는 함수\n",
    "    \n",
    "    if next_agent == 'agent_a':\n",
    "        return 'agent_a'\n",
    "    elif next_agent == 'agent_b':\n",
    "        return 'agent_b'\n",
    "    elif next_agent == 'agent_c':\n",
    "        return 'agent_c'\n",
    "    elif next_agent == 'END':\n",
    "        return '__end__'  # 종료 상태\n",
    "    return 'continue' "
   ]
  },
  {
   "cell_type": "code",
   "execution_count": 10,
   "id": "bdd473af-6925-4aba-ab46-ab45a5dd27dc",
   "metadata": {},
   "outputs": [],
   "source": [
    "# StateGraph 설정\n",
    "workflow = StateGraph(AgentState)\n",
    "\n",
    "# 상태 그래프 설정\n",
    "workflow.add_node(\"agent_a\", agent_a_node)\n",
    "workflow.add_node(\"agent_b\", agent_b_node)\n",
    "workflow.add_node(\"agent_c\", agent_c_node)\n",
    "workflow.add_node(\"mediator\", mediator_node)\n",
    "\n",
    "# workflow.add_conditional_edges(\n",
    "#     'agent_a',\n",
    "#     router,\n",
    "#     {'continue': 'mediator'}\n",
    "# )\n",
    "\n",
    "# workflow.add_conditional_edges(\n",
    "#     'agent_b',\n",
    "#     router,\n",
    "#     {'continue': 'mediator'}\n",
    "# )\n",
    "\n",
    "# workflow.add_conditional_edges(\n",
    "#     'agent_c',\n",
    "#     router,\n",
    "#     {'continue': 'mediator'}\n",
    "# )\n",
    "\n",
    "workflow.add_conditional_edges(\n",
    "    'mediator',\n",
    "    router,\n",
    "    {\n",
    "        '__end__': END,\n",
    "        'agent_a': 'agent_a',\n",
    "        'agent_b': 'agent_b',\n",
    "        'agent_c': 'agent_c',\n",
    "        'continue': 'mediator'\n",
    "    }\n",
    ")\n",
    "\n",
    "\n",
    "\n",
    "# Mediator와 각 에이전트 연결\n",
    "workflow.add_edge(\"agent_a\", \"mediator\")\n",
    "workflow.add_edge(\"agent_b\", \"mediator\")\n",
    "workflow.add_edge(\"agent_c\", \"mediator\")\n",
    "# workflow.add_edge(\"mediator\", \"agent_a\")\n",
    "# workflow.add_edge(\"mediator\", \"agent_b\")\n",
    "# workflow.add_edge(\"mediator\", \"agent_c\")\n",
    "# workflow.add_edge(\"mediator\", END)\n",
    "\n",
    "workflow.add_edge(START, 'mediator')\n",
    "graph = workflow.compile()"
   ]
  },
  {
   "cell_type": "code",
   "execution_count": 11,
   "id": "ff3b9584-8dc6-451e-92da-83c73bab8b89",
   "metadata": {},
   "outputs": [
    {
     "data": {
      "image/png": "[encoded data removed]",
      "text/plain": [
       "<IPython.core.display.Image object>"
      ]
     },
     "metadata": {},
     "output_type": "display_data"
    }
   ],
   "source": [
    "from IPython.display import Image, display\n",
    "\n",
    "try:\n",
    "    display(Image(graph.get_graph(xray=True).draw_mermaid_png()))\n",
    "except Exception as e:\n",
    "    print(f\"An error occurred: {e}\")\n",
    "    # This requires some extra dependencies and is optional\n",
    "    pass"
   ]
  },
  {
   "cell_type": "markdown",
   "id": "6ebad3f9-1baf-4492-b427-f4914f6e2071",
   "metadata": {},
   "source": [
    "# Define Functions"
   ]
  },
  {
   "cell_type": "code",
   "execution_count": 12,
   "id": "ffd719ae-cf2c-44f7-a2e2-06b5ab7451ac",
   "metadata": {},
   "outputs": [],
   "source": [
    "def book_flight(departure: str, destination: str, departure_time: str, return_time: str) -> dict:\n",
    "    \"\"\"\n",
    "    Books a flight given the required details.\n",
    "\n",
    "    Args:\n",
    "        departure (str): Departure airport.\n",
    "        destination (str): Destination airport.\n",
    "        departure_time (str): Date and time of departure.\n",
    "        return_time (str): Date and time of return.\n",
    "\n",
    "    Returns:\n",
    "        dict: Booking confirmation with flight details.\n",
    "    \"\"\"\n",
    "    pass\n",
    "\n",
    "def book_accommodation(location: str, check_in: str, check_out: str, guests: int) -> dict:\n",
    "    \"\"\"\n",
    "    Books an accommodation at a specified location.\n",
    "\n",
    "    Args:\n",
    "        location (str): Desired location for the accommodation.\n",
    "        check_in (str): Check-in date and time.\n",
    "        check_out (str): Check-out date and time.\n",
    "        guests (int): Number of guests.\n",
    "\n",
    "    Returns:\n",
    "        dict: Booking confirmation with accommodation details.\n",
    "    \"\"\"\n",
    "    pass\n",
    "\n",
    "def book_rental_car(car_type: str, pickup_date: str, return_date: str) -> dict:\n",
    "    \"\"\"\n",
    "    Books a rental car for the specified period.\n",
    "\n",
    "    Args:\n",
    "        car_type (str): Type of car to rent (e.g., SUV, sedan).\n",
    "        pickup_date (str): Date and time for car pickup.\n",
    "        return_date (str): Date and time for car return.\n",
    "\n",
    "    Returns:\n",
    "        dict: Booking confirmation with rental car details.\n",
    "    \"\"\"\n",
    "    pass"
   ]
  },
  {
   "cell_type": "code",
   "execution_count": 13,
   "id": "79b72abb-8c62-4102-8c25-abccd3d88a98",
   "metadata": {},
   "outputs": [],
   "source": [
    "from function_schema import get_function_schema\n",
    "\n",
    "def get_tool_schema(function):\n",
    "    return {\n",
    "        'type': 'function',\n",
    "        'function': get_function_schema(function)\n",
    "    }"
   ]
  },
  {
   "cell_type": "code",
   "execution_count": 14,
   "id": "976943df-ea06-4c32-97d1-9becd71621ec",
   "metadata": {},
   "outputs": [
    {
     "name": "stdout",
     "output_type": "stream",
     "text": [
      "{'function': {'description': 'Books an accommodation at a specified location.\\n'\n",
      "                             '\\n'\n",
      "                             'Args:\\n'\n",
      "                             '    location (str): Desired location for the '\n",
      "                             'accommodation.\\n'\n",
      "                             '    check_in (str): Check-in date and time.\\n'\n",
      "                             '    check_out (str): Check-out date and time.\\n'\n",
      "                             '    guests (int): Number of guests.\\n'\n",
      "                             '\\n'\n",
      "                             'Returns:\\n'\n",
      "                             '    dict: Booking confirmation with '\n",
      "                             'accommodation details.',\n",
      "              'name': 'book_accommodation',\n",
      "              'parameters': {'properties': {'check_in': {'description': 'The '\n",
      "                                                                        'check_in '\n",
      "                                                                        'parameter',\n",
      "                                                         'type': 'string'},\n",
      "                                            'check_out': {'description': 'The '\n",
      "                                                                         'check_out '\n",
      "                                                                         'parameter',\n",
      "                                                          'type': 'string'},\n",
      "                                            'guests': {'description': 'The '\n",
      "                                                                      'guests '\n",
      "                                                                      'parameter',\n",
      "                                                       'type': 'number'},\n",
      "                                            'location': {'description': 'The '\n",
      "                                                                        'location '\n",
      "                                                                        'parameter',\n",
      "                                                         'type': 'string'}},\n",
      "                             'required': ['check_out',\n",
      "                                          'check_in',\n",
      "                                          'guests',\n",
      "                                          'location'],\n",
      "                             'type': 'object'}},\n",
      " 'type': 'function'}\n"
     ]
    }
   ],
   "source": [
    "import pprint\n",
    "pprint.pprint(get_tool_schema(book_accommodation))"
   ]
  },
  {
   "cell_type": "code",
   "execution_count": 15,
   "id": "dc10d76d-ad84-4735-a316-b727b0adc2f4",
   "metadata": {},
   "outputs": [
    {
     "name": "stdout",
     "output_type": "stream",
     "text": [
      "=== book_flight ===\n",
      "{'type': 'function', 'function': {'name': 'book_flight', 'description': 'Books a flight given the required details.\\n\\nArgs:\\n    departure (str): Departure airport.\\n    destination (str): Destination airport.\\n    departure_time (str): Date and time of departure.\\n    return_time (str): Date and time of return.\\n\\nReturns:\\n    dict: Booking confirmation with flight details.', 'parameters': {'type': 'object', 'properties': {'departure': {'type': 'string', 'description': 'The departure parameter'}, 'destination': {'type': 'string', 'description': 'The destination parameter'}, 'departure_time': {'type': 'string', 'description': 'The departure_time parameter'}, 'return_time': {'type': 'string', 'description': 'The return_time parameter'}}, 'required': ['departure', 'return_time', 'departure_time', 'destination']}}}\n",
      "\n",
      "=== book_accommodation ===\n",
      "{'type': 'function', 'function': {'name': 'book_accommodation', 'description': 'Books an accommodation at a specified location.\\n\\nArgs:\\n    location (str): Desired location for the accommodation.\\n    check_in (str): Check-in date and time.\\n    check_out (str): Check-out date and time.\\n    guests (int): Number of guests.\\n\\nReturns:\\n    dict: Booking confirmation with accommodation details.', 'parameters': {'type': 'object', 'properties': {'location': {'type': 'string', 'description': 'The location parameter'}, 'check_in': {'type': 'string', 'description': 'The check_in parameter'}, 'check_out': {'type': 'string', 'description': 'The check_out parameter'}, 'guests': {'type': 'number', 'description': 'The guests parameter'}}, 'required': ['check_out', 'check_in', 'guests', 'location']}}}\n",
      "\n",
      "=== book_rental_car ===\n",
      "{'type': 'function', 'function': {'name': 'book_rental_car', 'description': 'Books a rental car for the specified period.\\n\\nArgs:\\n    car_type (str): Type of car to rent (e.g., SUV, sedan).\\n    pickup_date (str): Date and time for car pickup.\\n    return_date (str): Date and time for car return.\\n\\nReturns:\\n    dict: Booking confirmation with rental car details.', 'parameters': {'type': 'object', 'properties': {'car_type': {'type': 'string', 'description': 'The car_type parameter'}, 'pickup_date': {'type': 'string', 'description': 'The pickup_date parameter'}, 'return_date': {'type': 'string', 'description': 'The return_date parameter'}}, 'required': ['pickup_date', 'car_type', 'return_date']}}}\n"
     ]
    }
   ],
   "source": [
    "def create_function_docs(functions):\n",
    "    docs = []\n",
    "    for fn in functions:\n",
    "        # get_tool_schema를 통해 함수 스키마를 얻음\n",
    "        schema = get_tool_schema(fn)\n",
    "        # 함수 이름과 스키마를 문자열로 변환\n",
    "        docs.append(f\"=== {fn.__name__} ===\\n{schema}\")\n",
    "    # 줄바꿈하여 모두 합침\n",
    "    return \"\\n\\n\".join(docs)\n",
    "\n",
    "\n",
    "function_list = [book_flight, book_accommodation, book_rental_car]\n",
    "func_doc = create_function_docs(function_list)\n",
    "print(func_doc)"
   ]
  },
  {
   "cell_type": "markdown",
   "id": "cbc88c8e-4e21-4256-af16-1dd7cfaf9b8c",
   "metadata": {},
   "source": [
    "# Few Shot"
   ]
  },
  {
   "cell_type": "code",
   "execution_count": 16,
   "id": "5cac1a4a-4900-47da-992d-f97fee2f60a7",
   "metadata": {},
   "outputs": [],
   "source": [
    "fewshot = \"\"\"\n",
    "Below are example conversations to guide the flow and structure of your discussion:\n",
    "\n",
    "Example 1:\n",
    "User A: The project deadline is on the 15th of next month. What do we need to do?  \n",
    "User B: First, we should set the schedule for design and development. Development can only start once the design is finished.  \n",
    "User C: I’ll take care of the testing schedule. I think we can start right after development is done.  \n",
    "User A: Great, then how about we allocate one week for design, two weeks for development, and one week for testing?  \n",
    "User B: Sounds good. Let’s ask AI to organize the overall schedule.  \n",
    "User C: Sure, I’ll ask AI.  \n",
    "User A: Then, who will take care of the design?  \n",
    "User B: I’ll do it. I handled it last time, so I think it’ll be easier if I do it again this time.  \n",
    "User C: I can handle the development. I’ll start as soon as the design is completed, right?  \n",
    "User A: Yes, and I’ll take on the task of compiling the test results and managing the entire project.  \n",
    "User C: Perfect. Now that we’ve divided the roles, we just need to ask AI to organize everything.  \n",
    "User C: AI, please organize the project’s design, development, and testing schedules. Refer to our conversation to update the calendar and the project management information as well.  \n",
    "\n",
    "Example 2:  \n",
    "User A: We need to check the sales data for this quarter.  \n",
    "User B: Right. It’ll be an important benchmark for the upcoming meeting.  \n",
    "User C: Just looking at sales isn’t enough. It would be great if we could also have data comparing us to our competitors.  \n",
    "User A: Exactly. Comparing with competitors will help us understand where we’re doing better.  \n",
    "User B: It’d also be helpful to look at market share. We need to see where we stand in the overall market.  \n",
    "User C: Good idea. Let’s ask AI to fetch real-time data. I’ll make the request.  \n",
    "User C: AI, please fetch the sales data for this quarter, competitor data, and market share data.  \n",
    "\n",
    "Example 3:\n",
    "User A: Shall we have dinner together this weekend? How about Korean food?\n",
    "User B: Sounds good, but I’m vegetarian, so meat-heavy menus are a bit difficult for me. We should look for a place that offers vegetarian options.\n",
    "User C: I’d prefer a place with easy parking. These days, restaurants without parking spaces are really inconvenient.\n",
    "User A: How about near Gangnam Station? It’s about the same distance from everyone’s place, and there are plenty of Korean restaurants there.\n",
    "User B: That sounds good. We should be able to find a place with decent vegetarian options near Gangnam Station.\n",
    "User C: There are many places near Gangnam Station with parking, but a restaurant with its own parking lot would be even better.\n",
    "User A: How about 6 PM for dinner? If it’s too late, it might be hard to get a table.\n",
    "User B: That works for me. 6 PM is fine.\n",
    "User C: So, our requirements are Korean food, vegetarian options, and parking availability.\n",
    "User A: That’s right. Let’s ask AI. I’ll make the request.\n",
    "User A: AI, please find a Korean restaurant near Gangnam Station for 6 PM this weekend that offers vegetarian options. It’d be great if it has parking as well. Please provide a list of recommendations.\n",
    "\"\"\""
   ]
  },
  {
   "cell_type": "markdown",
   "id": "939c2523-a685-43da-aea8-ef3e2917cb62",
   "metadata": {},
   "source": [
    "# Invoke"
   ]
  },
  {
   "cell_type": "code",
   "execution_count": 17,
   "id": "65dd0b0e-eb37-4641-a721-9cf2319c5524",
   "metadata": {},
   "outputs": [
    {
     "name": "stdout",
     "output_type": "stream",
     "text": [
      "[mediator] [NEXT: agent_b]\n",
      "----------\n",
      "[agent_b] We should create a timeline for our upcoming project to ensure everything is organized and on track.\n",
      "----------\n",
      "[mediator] [NEXT: agent_a]\n",
      "----------\n",
      "[agent_a] How about we kick things off with a planning session this Friday to brainstorm ideas and set goals?\n",
      "----------\n",
      "[mediator] [NEXT: agent_c]\n",
      "----------\n",
      "[agent_c] I suggest we also look at possible resources and budget constraints to optimize our plans effectively.\n",
      "----------\n",
      "[mediator] [NEXT: agent_b]\n",
      "----------\n",
      "[agent_b] Good point, let’s ensure our timeline includes a budget review phase to keep everything realistic.\n",
      "----------\n",
      "[mediator] [NEXT: agent_a]\n",
      "----------\n",
      "[agent_a] We could also include a weekly check-in to monitor our progress and adjust plans if needed.\n",
      "----------\n",
      "[mediator] [NEXT: agent_c]\n",
      "----------\n",
      "[agent_c] That sounds efficient, and maybe we should use a project management tool to track these updates.\n",
      "----------\n",
      "[mediator] [NEXT: agent_b]\n",
      "----------\n",
      "[agent_b] I can set up the initial project timeline and include a weekly check-in using our preferred management tool.\n",
      "----------\n",
      "[mediator] [NEXT: agent_a]\n",
      "----------\n",
      "[agent_a] Awesome! Let's ask AI to organize our timeline and resources based on this plan.\n",
      "----------\n",
      "[mediator] [NEXT: agent_c]\n",
      "----------\n",
      "[agent_c] AI, please organize our project timeline, including a budget review, weekly check-ins, and resource allocation, using our project management tool.\n",
      "----------\n",
      "[mediator] [NEXT: END]\n",
      "----------\n"
     ]
    }
   ],
   "source": [
    "events = graph.stream(\n",
    "    {\n",
    "        'messages': [\n",
    "            HumanMessage(content=f\"\"\"{fewshot}\n",
    "\n",
    "            Instruction:\n",
    "            Have a very natural and casual conversation, just as you would in everyday life.  \n",
    "            Refer to the few-shot examples above for guidance on how to structure the dialogue.  \n",
    "            Ensure the conversation progresses smoothly, with agents A, B, and C speaking in random order and not repeating consecutively.  \n",
    "            Within 12 turns, make sure all necessary details for a final AI function call are naturally established through the dialogue.  \n",
    "            Finally, one agent must call AI using the functions_document: {{func_doc}}, and the conversation concludes with the mediator responding '[NEXT: END]'.\n",
    "            \"\"\")  # 1) 12턴의 대화 안에 패래미터랑 함수 이름에 대한 정보들이 있어야 함  2) 마지막에 AI를 부를때는 추상적이어야 함\n",
    "        ],\n",
    "    },\n",
    "    {'recursion_limit': 100},\n",
    ")\n",
    "\n",
    "for event in events:\n",
    "    if isinstance(event, dict):\n",
    "        # event는 노드 이름(예: \"mediator\", \"agent_a\")을 키로 가지는 딕셔너리\n",
    "        for node_name, node_data in event.items():\n",
    "            # node_data 내부에 messages 키가 있으면 메시지를 꺼낸다\n",
    "            if \"messages\" in node_data:\n",
    "                messages = node_data[\"messages\"]\n",
    "                # messages는 보통 [AIMessage(...), ...] 같은 리스트\n",
    "                for msg in messages:\n",
    "                    # msg.content만 출력\n",
    "                    print(f\"[{node_name}] {msg.content}\")\n",
    "    print(\"-\" * 10)"
   ]
  },
  {
   "cell_type": "code",
   "execution_count": null,
   "id": "6b90c779-d113-40e7-b742-ce94120cbb0a",
   "metadata": {},
   "outputs": [],
   "source": []
  },
  {
   "cell_type": "markdown",
   "id": "8c8d34b2-4db8-4edc-afed-b8f1ffaaed93",
   "metadata": {},
   "source": [
    "# Test"
   ]
  },
  {
   "cell_type": "code",
   "execution_count": null,
   "id": "e9619122-9b22-44bf-8cc8-a0679a1286c5",
   "metadata": {},
   "outputs": [],
   "source": []
  },
  {
   "cell_type": "code",
   "execution_count": null,
   "id": "7d710f65-e4b9-4d5c-8c6b-cc1c3658a2e1",
   "metadata": {},
   "outputs": [],
   "source": []
  }
 ],
 "metadata": {
  "kernelspec": {
   "display_name": "Python 3 (ipykernel)",
   "language": "python",
   "name": "python3"
  },
  "language_info": {
   "codemirror_mode": {
    "name": "ipython",
    "version": 3
   },
   "file_extension": ".py",
   "mimetype": "text/x-python",
   "name": "python",
   "nbconvert_exporter": "python",
   "pygments_lexer": "ipython3",
   "version": "3.11.10"
  }
 },
 "nbformat": 4,
 "nbformat_minor": 5
}
