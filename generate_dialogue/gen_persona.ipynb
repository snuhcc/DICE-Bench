{
 "cells": [
  {
   "cell_type": "code",
   "execution_count": 5,
   "id": "e73b5cfa-7da1-4258-9856-225ec4fc06bc",
   "metadata": {},
   "outputs": [],
   "source": [
    "import random\n",
    "import json"
   ]
  },
  {
   "cell_type": "markdown",
   "id": "33c5e556-dd0f-45e0-b316-32b2db750434",
   "metadata": {},
   "source": [
    "# Features"
   ]
  },
  {
   "cell_type": "code",
   "execution_count": 6,
   "id": "25db40e4-ba17-4075-9235-5e55c162b421",
   "metadata": {},
   "outputs": [],
   "source": [
    "name_list = [\n",
    "    \"Alex\", \"Taylor\", \"Jordan\", \"Riley\", \"Morgan\", \n",
    "    \"Quinn\", \"Casey\", \"Jamie\", \"Sam\", \"Charlie\", \n",
    "    \"Jiho\", \"Minji\", \"Sujin\", \"Donghyun\", \"Hyunjin\", \n",
    "    \"Wei Chen\", \"Xiao Ming\", \"Li Hua\", \"Zhang Wei\", \"Wang Fang\"\n",
    "]\n",
    "\n",
    "occupation_detailed_list = [\n",
    "    \"barista who loves experimenting with coffee recipes\",\n",
    "    \"freelance graphic designer creating album covers\",\n",
    "    \"aspiring musician writing indie pop songs\",\n",
    "    \"social media manager for a small bakery\",\n",
    "    \"high school tutor helping students with math homework\",\n",
    "    \"dog walker who knows every dog in the neighborhood\",\n",
    "    \"pizza delivery driver dreaming of owning a food truck\",\n",
    "    \"small business owner selling handmade candles\",\n",
    "    \"freelance photographer capturing weddings and birthdays\",\n",
    "    \"college student studying environmental science\",\n",
    "    \"volunteer organizing local beach cleanups\",\n",
    "    \"content creator making funny short videos online\",\n",
    "    \"part-time yoga instructor passionate about mindfulness\",\n",
    "    \"bookstore clerk who gives amazing reading recommendations\",\n",
    "    \"bartender creating unique cocktail recipes\",\n",
    "    \"travel blogger exploring hidden gems in small towns\",\n",
    "    \"home baker selling cakes for special occasions\",\n",
    "    \"comic artist creating stories about everyday life\",\n",
    "    \"sports coach for kids learning basketball\",\n",
    "    \"museum guide sharing fun facts about art and history\"\n",
    "]\n",
    "\n",
    "personality_list = [\n",
    "    \"curious\", \"logical\", \"empathetic\", \"creative\", \"analytical\", \n",
    "    \"optimistic\", \"humorous\", \"reliable\", \"open-minded\", \"confident\"\n",
    "]\n",
    "\n",
    "conversation_style_list = [\n",
    "    \"direct and clear\", \"friendly and warm\", \"calm and reassuring\", \n",
    "    \"polite and respectful\", \"inquisitive and curious\", \"persuasive and convincing\", \n",
    "    \"concise and to-the-point\", \"analytical and detailed\", \"energetic and enthusiastic\", \n",
    "    \"humorous and casual\"\n",
    "]"
   ]
  },
  {
   "cell_type": "code",
   "execution_count": 7,
   "id": "ca2998c9-e582-4f7d-9bec-8d987b7029bc",
   "metadata": {},
   "outputs": [],
   "source": [
    "persona_template = \"\"\"\n",
    "You are {{name}}, a {{occupation_detailed}}—a {{personality}} person. You have a {{conversation_style}} communication style, which makes your interactions highly effective and engaging.\n",
    "\"\"\""
   ]
  },
  {
   "cell_type": "code",
   "execution_count": 8,
   "id": "2b921999-4177-4509-9d02-8ea03fb65757",
   "metadata": {},
   "outputs": [],
   "source": [
    "persona_guidelines = \"\"\"\n",
    "### Functions and Parameters:\n",
    "- keys are the functions and values are the accordance parameters.\n",
    "- {\"get_weather\": [\"seoul\", \"05-23\"], \"get_news_for_topic\": [\"money\"]}\n",
    "\n",
    "### Guidelines:\n",
    "- Collaborate seamlessly with other agents, ensuring the conversation remains coherent and goal-oriented.\n",
    "- Respond in natural ways like real human beings are having a conversation.\n",
    "- Make sure the utterance is always less than or equal to two sentences.\n",
    "- If multiple functions are given, then the virtual assistant needs to perform those functions with parameters given the one entire dialogue.\n",
    "- Guide the conversation so that, when the entire dialogue is provided to the virtual assistant, it performs function calls using the given functions and parameters to resolve the instructions based on the context of the conversation.\n",
    "\"\"\""
   ]
  },
  {
   "cell_type": "code",
   "execution_count": 9,
   "id": "c8f10480-19a2-424e-9e1d-af2fa2ce549b",
   "metadata": {},
   "outputs": [],
   "source": [
    "def get_persona_prompt():\n",
    "    # Randomly select values\n",
    "    random_name = random.choice(name_list)\n",
    "    random_occupation = random.choice(occupation_detailed_list)\n",
    "    random_personality = random.choice(personality_list)\n",
    "    random_conversation_style = random.choice(conversation_style_list)\n",
    "\n",
    "    # Replace placeholders in the template\n",
    "    persona_filled = persona_template.replace(\"{{name}}\", random_name)\n",
    "    persona_filled = persona_filled.replace(\"{{occupation_detailed}}\", random_occupation)\n",
    "    persona_filled = persona_filled.replace(\"{{personality}}\", random_personality)\n",
    "    persona_filled = persona_filled.replace(\"{{conversation_style}}\", random_conversation_style)\n",
    "    \n",
    "    return persona_filled"
   ]
  },
  {
   "cell_type": "code",
   "execution_count": null,
   "id": "1cfd1ca1",
   "metadata": {},
   "outputs": [],
   "source": []
  },
  {
   "cell_type": "code",
   "execution_count": 10,
   "id": "df083594-1437-43a0-af53-902c25b617cd",
   "metadata": {},
   "outputs": [
    {
     "ename": "NameError",
     "evalue": "name 'persona_filled' is not defined",
     "output_type": "error",
     "traceback": [
      "\u001b[0;31m---------------------------------------------------------------------------\u001b[0m",
      "\u001b[0;31mNameError\u001b[0m                                 Traceback (most recent call last)",
      "Cell \u001b[0;32mIn[10], line 1\u001b[0m\n\u001b[0;32m----> 1\u001b[0m persona_prompt \u001b[38;5;241m=\u001b[39m persona_filled \u001b[38;5;241m+\u001b[39m persona_guidelines\n",
      "\u001b[0;31mNameError\u001b[0m: name 'persona_filled' is not defined"
     ]
    }
   ],
   "source": [
    "persona_prompt = persona_filled + persona_guidelines"
   ]
  },
  {
   "cell_type": "code",
   "execution_count": 11,
   "id": "f02bfed7-dd61-497d-8dfd-11e964130350",
   "metadata": {},
   "outputs": [
    {
     "ename": "NameError",
     "evalue": "name 'persona_prompt' is not defined",
     "output_type": "error",
     "traceback": [
      "\u001b[0;31m---------------------------------------------------------------------------\u001b[0m",
      "\u001b[0;31mNameError\u001b[0m                                 Traceback (most recent call last)",
      "Cell \u001b[0;32mIn[11], line 1\u001b[0m\n\u001b[0;32m----> 1\u001b[0m \u001b[38;5;28mprint\u001b[39m(persona_prompt)\n",
      "\u001b[0;31mNameError\u001b[0m: name 'persona_prompt' is not defined"
     ]
    }
   ],
   "source": [
    "print(persona_prompt)"
   ]
  },
  {
   "cell_type": "code",
   "execution_count": null,
   "id": "de31c8ed-9b75-49a4-9efd-cbc3f553d68a",
   "metadata": {},
   "outputs": [],
   "source": []
  },
  {
   "cell_type": "markdown",
   "id": "5d2c8d91",
   "metadata": {},
   "source": [
    "## Prompt for ChatGPT"
   ]
  },
  {
   "cell_type": "code",
   "execution_count": 35,
   "id": "071352c0",
   "metadata": {},
   "outputs": [],
   "source": []
  },
  {
   "cell_type": "markdown",
   "id": "7506c9b1",
   "metadata": {},
   "source": [
    "## SS"
   ]
  },
  {
   "cell_type": "code",
   "execution_count": 12,
   "id": "95f4c09a",
   "metadata": {},
   "outputs": [],
   "source": [
    "function = {'shop_online': {'website': 'walmart', 'product': 'broccoli'}}\n",
    "# function = {'search_online': {'search_engine': 'bing', 'search_text': 'coffee'}}\n",
    "# function = {'withdraw_cash': {'bank': 'chase', 'amount': 100, 'currency': 'USD'}}\n",
    "# function = {'check_balance': {'bank': 'wells_fargo', 'account_type': 'savings', 'currency': 'USD'}}\n",
    "# function = {'schedule_appointment': {'service': 'dentist', 'date': '01-15', 'time': '14:30', 'location': 'downtown_clinic'}}"
   ]
  },
  {
   "cell_type": "markdown",
   "id": "adf488d1",
   "metadata": {},
   "source": [
    "## SM"
   ]
  },
  {
   "cell_type": "code",
   "execution_count": 22,
   "id": "19af33c8",
   "metadata": {},
   "outputs": [],
   "source": [
    "function = {'get_weather': {'location': 'seoul', 'date': '05-23'}, 'get_news_for_topic': {'topic': 'economy'}}\n",
    "function = {'calculate_bmi': {'height': 175, 'weight': 70}, 'find_restaurants': {'cuisine': 'Italian', 'location': 'busan'}}\n",
    "function = {'send_email': {'recipient': 'example@example.com', 'subject': 'Meeting Reminder'}, 'fetch_weather': {'location': 'newyork', 'date': '02-10'}}\n",
    "function = {'play_music_by_artist_and_genre': {'genre': 'pop', 'artist': 'Taylor Swift'}, 'get_crypto_price': {'currency': 'bitcoin', 'date': '01-01'}}\n",
    "function = {'order_food_dinein': {'restaurant': 'PizzaHut', 'item': 'Pepperoni Pizza'}, 'find_hotel': {'location': 'jeju', 'check_in': '03-15'}}"
   ]
  },
  {
   "cell_type": "markdown",
   "id": "5936086b",
   "metadata": {},
   "source": [
    "## MS"
   ]
  },
  {
   "cell_type": "code",
   "execution_count": null,
   "id": "fcca0f74",
   "metadata": {},
   "outputs": [],
   "source": []
  },
  {
   "cell_type": "markdown",
   "id": "65d2ca6d",
   "metadata": {},
   "source": [
    "## MM"
   ]
  },
  {
   "cell_type": "code",
   "execution_count": null,
   "id": "b771058d",
   "metadata": {},
   "outputs": [],
   "source": []
  },
  {
   "cell_type": "code",
   "execution_count": 23,
   "id": "bb56ff39",
   "metadata": {},
   "outputs": [],
   "source": [
    "gpt_prompt = \"\"\"\n",
    "Assume that the function and parameters are given as `{{function}}`.\n",
    "The goal is to write a natural conversation where multiple users interact in an {{dialogue_type}}. An {{dialogue_type}} is defined as:  \n",
    "'{{dialogue_type_definition}}'  \n",
    "The conversation must explicitly mention all parameter values provided in `{{function}}` in a natural and logical manner during the discussion. These values should contribute meaningfully to the flow of the conversation and should not feel forced or out of place.\n",
    "\n",
    "The conversation should end with a simple and clear command to the AI, using casual language. The final command must reference the key points discussed earlier in the dialogue indirectly and naturally. Avoid directly stating the function or parameter names.\n",
    "\n",
    "Each utterance must be one middle short sentence, and the flow of dialogue must naturally progress without abrupt topic changes. If a new topic is introduced, it should be logically connected to the previous one.\n",
    "\n",
    "#### Use the following personas to generate the conversation:\n",
    "User A: {{persona1}}\n",
    "User B: {{persona2}}\n",
    "User C: {{persona3}}\n",
    "\n",
    "Write approximately 10-turn conversation where the users engage in an {{dialogue_type}}, adhering to their personas and ensuring that transitions between topics are smooth and logical. \n",
    "\n",
    "Dialogue format would be:\n",
    "user name: utterance\n",
    "user name: utterance\n",
    "\n",
    "Only the last user should call AI simply. When asking, ensure the final utterance is casual, concise, fits the context, and **Do not includes parameter vavlues**. For example, \"AI, please do me a favor.\", \"AI, please buy this.\"\n",
    "Generate the dialogue in Korean.\n",
    "\"\"\""
   ]
  },
  {
   "cell_type": "code",
   "execution_count": 24,
   "id": "54ed7a50",
   "metadata": {},
   "outputs": [],
   "source": [
    "with open('dialogue_category.json', 'r') as data:\n",
    "    cat_data = json.load(data)\n",
    "\n",
    "\n",
    "dialogue_type = random.choice(list(cat_data.keys()))\n",
    "dialogue_type_definition = cat_data[dialogue_type]\n"
   ]
  },
  {
   "cell_type": "code",
   "execution_count": 25,
   "id": "7273d16a",
   "metadata": {},
   "outputs": [
    {
     "name": "stdout",
     "output_type": "stream",
     "text": [
      "\n",
      "Assume that the function and parameters are given as `{'order_food': {'restaurant': 'PizzaHut', 'item': 'Pepperoni Pizza'}, 'find_hotel': {'location': 'jeju', 'check_in': '03-15'}}`.\n",
      "The goal is to write a natural conversation where multiple users interact in an Persuasion Dialogue. An Persuasion Dialogue is defined as:  \n",
      "'A dialogue where participants present conflicting viewpoints and aim to convince each other through logical arguments and evidence. The primary goal is to resolve disagreements or support one’s position by weakening the opponent’s arguments. The emphasis is on logic and reasoning rather than emotional appeals. Examples include debates, legal discussions, or academic arguments.'  \n",
      "The conversation must explicitly mention all parameter values provided in `{'order_food': {'restaurant': 'PizzaHut', 'item': 'Pepperoni Pizza'}, 'find_hotel': {'location': 'jeju', 'check_in': '03-15'}}` in a natural and logical manner during the discussion. These values should contribute meaningfully to the flow of the conversation and should not feel forced or out of place.\n",
      "\n",
      "The conversation should end with a simple and clear command to the AI, using casual language. The final command must reference the key points discussed earlier in the dialogue indirectly and naturally. Avoid directly stating the function or parameter names.\n",
      "\n",
      "Each utterance must be one middle short sentence, and the flow of dialogue must naturally progress without abrupt topic changes. If a new topic is introduced, it should be logically connected to the previous one.\n",
      "\n",
      "#### Use the following personas to generate the conversation:\n",
      "User A: \n",
      "You are Xiao Ming, a museum guide sharing fun facts about art and history—a curious person. You have a persuasive and convincing communication style, which makes your interactions highly effective and engaging.\n",
      "\n",
      "User B: \n",
      "You are Li Hua, a small business owner selling handmade candles—a empathetic person. You have a energetic and enthusiastic communication style, which makes your interactions highly effective and engaging.\n",
      "\n",
      "User C: \n",
      "You are Zhang Wei, a freelance photographer capturing weddings and birthdays—a analytical person. You have a analytical and detailed communication style, which makes your interactions highly effective and engaging.\n",
      "\n",
      "\n",
      "Write approximately 10-turn conversation where the users engage in an Persuasion Dialogue, adhering to their personas and ensuring that transitions between topics are smooth and logical. \n",
      "\n",
      "Dialogue format would be:\n",
      "user name: utterance\n",
      "user name: utterance\n",
      "\n",
      "Only the last user should call AI simply. When asking, ensure the final utterance is casual, concise, fits the context, and **Do not includes parameter vavlues**. For example, \"AI, please do me a favor.\", \"AI, please buy this.\"\n",
      "Generate the dialogue in Korean.\n",
      "\n"
     ]
    }
   ],
   "source": [
    "gpt_prompt = gpt_prompt.replace(\"{{function}}\", str(function)) \\\n",
    "    .replace(\"{{dialogue_type}}\", dialogue_type) \\\n",
    "    .replace(\"{{dialogue_type_definition}}\", dialogue_type_definition) \\\n",
    "    .replace(\"{{persona1}}\", get_persona_prompt()) \\\n",
    "    .replace(\"{{persona2}}\", get_persona_prompt()) \\\n",
    "    .replace(\"{{persona3}}\", get_persona_prompt())\n",
    "# 최종 gpt_prompt 출력\n",
    "print(gpt_prompt)"
   ]
  },
  {
   "cell_type": "code",
   "execution_count": null,
   "id": "14ed9b1d",
   "metadata": {},
   "outputs": [],
   "source": []
  },
  {
   "cell_type": "code",
   "execution_count": null,
   "id": "d1713d28",
   "metadata": {},
   "outputs": [],
   "source": []
  }
 ],
 "metadata": {
  "kernelspec": {
   "display_name": "hcclab",
   "language": "python",
   "name": "python3"
  },
  "language_info": {
   "codemirror_mode": {
    "name": "ipython",
    "version": 3
   },
   "file_extension": ".py",
   "mimetype": "text/x-python",
   "name": "python",
   "nbconvert_exporter": "python",
   "pygments_lexer": "ipython3",
   "version": "3.11.10"
  }
 },
 "nbformat": 4,
 "nbformat_minor": 5
}
