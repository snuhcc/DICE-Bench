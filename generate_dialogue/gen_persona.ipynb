{
 "cells": [
  {
   "cell_type": "code",
   "execution_count": 12,
   "id": "e73b5cfa-7da1-4258-9856-225ec4fc06bc",
   "metadata": {},
   "outputs": [],
   "source": [
    "import random"
   ]
  },
  {
   "cell_type": "markdown",
   "id": "33c5e556-dd0f-45e0-b316-32b2db750434",
   "metadata": {},
   "source": [
    "# Features"
   ]
  },
  {
   "cell_type": "code",
   "execution_count": 10,
   "id": "25db40e4-ba17-4075-9235-5e55c162b421",
   "metadata": {},
   "outputs": [],
   "source": [
    "name_list = [\n",
    "    \"Alex\", \"Taylor\", \"Jordan\", \"Riley\", \"Morgan\", \n",
    "    \"Quinn\", \"Casey\", \"Jamie\", \"Sam\", \"Charlie\", \n",
    "    \"Jiho\", \"Minji\", \"Sujin\", \"Donghyun\", \"Hyunjin\", \n",
    "    \"Wei Chen\", \"Xiao Ming\", \"Li Hua\", \"Zhang Wei\", \"Wang Fang\"\n",
    "]\n",
    "\n",
    "occupation_detailed_list = [\n",
    "    \"data scientist conducting research on financial markets\",\n",
    "    \"data scientist focused on food supply chain optimization\",\n",
    "    \"neuroscience researcher studying memory and cognition\",\n",
    "    \"neuroscience researcher working on neurodegenerative diseases\",\n",
    "    \"software engineer developing ai algorithms for healthcare\",\n",
    "    \"software engineer specializing in blockchain technology\",\n",
    "    \"clinical psychologist providing therapy for trauma survivors\",\n",
    "    \"clinical psychologist researching adolescent mental health\",\n",
    "    \"financial analyst focusing on renewable energy investments\",\n",
    "    \"financial analyst working in cryptocurrency trading\",\n",
    "    \"ai product manager building machine learning tools for education\",\n",
    "    \"ai product manager designing chatbots for customer support\",\n",
    "    \"high school teacher specializing in stem education\",\n",
    "    \"high school teacher developing innovative language learning methods\",\n",
    "    \"creative director crafting campaigns for eco-friendly brands\",\n",
    "    \"creative director specializing in digital media content creation\",\n",
    "    \"biomedical engineer designing prosthetic devices\",\n",
    "    \"biomedical engineer researching tissue regeneration\",\n",
    "    \"environmental policy advisor focusing on climate change strategies\",\n",
    "    \"environmental policy advisor promoting sustainable urban development\"\n",
    "]\n",
    "\n",
    "personality_list = [\n",
    "    \"curious\", \"logical\", \"empathetic\", \"creative\", \"analytical\", \n",
    "    \"optimistic\", \"humorous\", \"reliable\", \"open-minded\", \"confident\"\n",
    "]\n",
    "\n",
    "conversation_style_list = [\n",
    "    \"direct and clear\", \"friendly and warm\", \"calm and reassuring\", \n",
    "    \"polite and respectful\", \"inquisitive and curious\", \"persuasive and convincing\", \n",
    "    \"concise and to-the-point\", \"analytical and detailed\", \"energetic and enthusiastic\", \n",
    "    \"humorous and casual\"\n",
    "]"
   ]
  },
  {
   "cell_type": "code",
   "execution_count": 17,
   "id": "ca2998c9-e582-4f7d-9bec-8d987b7029bc",
   "metadata": {},
   "outputs": [],
   "source": [
    "persona_template = \"\"\"\n",
    "You are {{name}}, a {{occupation_detailed}}—a {{personality}} person. You have a {{conversation_style}} communication style, which makes your interactions highly effective and engaging.\n",
    "\"\"\""
   ]
  },
  {
   "cell_type": "code",
   "execution_count": 58,
   "id": "2b921999-4177-4509-9d02-8ea03fb65757",
   "metadata": {},
   "outputs": [],
   "source": [
    "persona_guidelines = \"\"\"\n",
    "### Functions and Parameters:\n",
    "- keys are the functions and values are the accordance parameters.\n",
    "- {\"get_weather\": [\"seoul\", \"05-23\"], \"get_news_for_topic\": [\"money\"]}\n",
    "\n",
    "### Guidelines:\n",
    "- Collaborate seamlessly with other agents, ensuring the conversation remains coherent and goal-oriented.\n",
    "- Respond in natural ways like real human beings are having a conversation.\n",
    "- Make sure the utterance is always less than or equal to two sentences.\n",
    "- If multiple functions are given, then the virtual assistant needs to perform those functions with parameters given the one entire dialogue.\n",
    "- Guide the conversation so that, when the entire dialogue is provided to the virtual assistant, it performs function calls using the given functions and parameters to resolve the instructions based on the context of the conversation.\n",
    "\"\"\""
   ]
  },
  {
   "cell_type": "code",
   "execution_count": 59,
   "id": "c8f10480-19a2-424e-9e1d-af2fa2ce549b",
   "metadata": {},
   "outputs": [],
   "source": [
    "# Randomly select values\n",
    "random_name = random.choice(name_list)\n",
    "random_occupation = random.choice(occupation_detailed_list)\n",
    "random_personality = random.choice(personality_list)\n",
    "random_conversation_style = random.choice(conversation_style_list)\n",
    "\n",
    "# Replace placeholders in the template\n",
    "persona_filled = persona_template.replace(\"{{name}}\", random_name)\n",
    "persona_filled = persona_filled.replace(\"{{occupation_detailed}}\", random_occupation)\n",
    "persona_filled = persona_filled.replace(\"{{personality}}\", random_personality)\n",
    "persona_filled = persona_filled.replace(\"{{conversation_style}}\", random_conversation_style)"
   ]
  },
  {
   "cell_type": "code",
   "execution_count": 60,
   "id": "df083594-1437-43a0-af53-902c25b617cd",
   "metadata": {},
   "outputs": [],
   "source": [
    "persona_prompt = persona_filled + persona_guidelines"
   ]
  },
  {
   "cell_type": "code",
   "execution_count": 61,
   "id": "f02bfed7-dd61-497d-8dfd-11e964130350",
   "metadata": {},
   "outputs": [
    {
     "name": "stdout",
     "output_type": "stream",
     "text": [
      "\n",
      "You are Wang Fang, a neuroscience researcher working on neurodegenerative diseases—a humorous person. You have a analytical and detailed communication style, which makes your interactions highly effective and engaging.\n",
      "\n",
      "### Functions and Parameters:\n",
      "- keys are the functions and values are the accordance parameters.\n",
      "- {\"get_weather\": [\"seoul\", \"05-23\"], \"get_news_for_topic\": [\"money\"]}\n",
      "\n",
      "### Guidelines:\n",
      "- Collaborate seamlessly with other agents, ensuring the conversation remains coherent and goal-oriented.\n",
      "- Respond in natural ways like real human beings are having a conversation.\n",
      "- Make sure the utterance is always less than or equal to two sentences.\n",
      "- If multiple functions are given, then the virtual assistant needs to perform those functions with parameters given the one entire dialogue.\n",
      "- Guide the conversation so that, when the entire dialogue is provided to the virtual assistant, it performs function calls using the given functions and parameters to resolve the instructions based on the context of the conversation.\n",
      "\n"
     ]
    }
   ],
   "source": [
    "print(persona_prompt)"
   ]
  },
  {
   "cell_type": "code",
   "execution_count": null,
   "id": "de31c8ed-9b75-49a4-9efd-cbc3f553d68a",
   "metadata": {},
   "outputs": [],
   "source": []
  }
 ],
 "metadata": {
  "kernelspec": {
   "display_name": "Python 3 (ipykernel)",
   "language": "python",
   "name": "python3"
  },
  "language_info": {
   "codemirror_mode": {
    "name": "ipython",
    "version": 3
   },
   "file_extension": ".py",
   "mimetype": "text/x-python",
   "name": "python",
   "nbconvert_exporter": "python",
   "pygments_lexer": "ipython3",
   "version": "3.11.10"
  }
 },
 "nbformat": 4,
 "nbformat_minor": 5
}
